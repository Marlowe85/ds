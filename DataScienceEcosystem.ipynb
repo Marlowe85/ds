{
 "cells": [
  {
   "cell_type": "markdown",
   "id": "1a23784e-68cb-44c6-aff7-4ce74963bf51",
   "metadata": {},
   "source": [
    "# Data Science Tools and Ecosystem"
   ]
  },
  {
   "cell_type": "markdown",
   "id": "5be7dc5e-99f7-4776-b022-e988e26fc5c4",
   "metadata": {},
   "source": [
    "In this notebook, Data Science Tools and Ecosystem are summarized.\r\n"
   ]
  },
  {
   "cell_type": "markdown",
   "id": "06ee66f6-a7f9-4935-8fde-e34a7127a9de",
   "metadata": {},
   "source": [
    "Some of the popular languages that Data Scientists use are:\n",
    "1. Python\n",
    "2. R\n",
    "3. Scala\n",
    "4. Julia\n",
    "5. SQL"
   ]
  },
  {
   "cell_type": "markdown",
   "id": "da367b4b-2cdc-4722-9666-c3da401d4940",
   "metadata": {},
   "source": [
    "Some of the commonly used libraries used by Data Scientists include:\n",
    "1. numpy\n",
    "2. scikit-learn\n",
    "3. pandas\n",
    "4. seaborn\n",
    "5. matplotlib\n",
    "6. TensorFlow\n",
    "7. ggplot\n",
    "8. caret\n"
   ]
  },
  {
   "cell_type": "markdown",
   "id": "8f2b603b-1465-4eeb-b9cb-3eac1ac53aa8",
   "metadata": {},
   "source": [
    "|Data Science Tools |\n",
    "--------------------\n",
    "|Anaconda|\n",
    "|Spark|\n",
    "|GitHub|\n",
    "|Jupyter Notebook|\n",
    "|VSCode|\n",
    "|RStudio|"
   ]
  },
  {
   "cell_type": "markdown",
   "id": "6a9a7531-b530-487b-a441-e177746dfaf0",
   "metadata": {},
   "source": [
    "### Below are a few examples of evaluating arithmetic expressions in Python."
   ]
  },
  {
   "cell_type": "code",
   "execution_count": 10,
   "id": "0d233163-86bf-4e6f-80ad-e356734773b5",
   "metadata": {},
   "outputs": [
    {
     "data": {
      "text/plain": [
       "17"
      ]
     },
     "execution_count": 10,
     "metadata": {},
     "output_type": "execute_result"
    }
   ],
   "source": [
    "#This is a simple arithmetic expression to multiply then add integers.\n",
    "(3*4)+5"
   ]
  },
  {
   "cell_type": "code",
   "execution_count": 12,
   "id": "e827227b-2872-4cac-91cc-cdf5f9c908e6",
   "metadata": {},
   "outputs": [
    {
     "data": {
      "text/plain": [
       "3.3333333333333335"
      ]
     },
     "execution_count": 12,
     "metadata": {},
     "output_type": "execute_result"
    }
   ],
   "source": [
    "# This cell first defines a minutes_to_hours expression, where it divides the minutes input by 60, \n",
    "# returning an equivalent value in hours. \n",
    "# This function is then called on an input of 200 minutes\n",
    "\n",
    "def minutes_to_hours(minutes):\n",
    "    return float(minutes)/60\n",
    "\n",
    "minutes_to_hours(200)\n",
    "\n"
   ]
  },
  {
   "cell_type": "markdown",
   "id": "b44400d9-154b-433b-9691-95884d385422",
   "metadata": {},
   "source": [
    "**Objectives:**\n",
    "* list popular languages for data science\n",
    "* list data science tools\n",
    "* list popular R and Python libraries used by data scientists\n",
    "* define and execute a Python function for converting minutes to hours"
   ]
  },
  {
   "cell_type": "markdown",
   "id": "173582be-bc8a-4225-bf33-89a8ccdc3bc5",
   "metadata": {},
   "source": [
    "## Author\n",
    "Myles Tryder"
   ]
  }
 ],
 "metadata": {
  "kernelspec": {
   "display_name": "Python 3 (ipykernel)",
   "language": "python",
   "name": "python3"
  },
  "language_info": {
   "codemirror_mode": {
    "name": "ipython",
    "version": 3
   },
   "file_extension": ".py",
   "mimetype": "text/x-python",
   "name": "python",
   "nbconvert_exporter": "python",
   "pygments_lexer": "ipython3",
   "version": "3.12.4"
  }
 },
 "nbformat": 4,
 "nbformat_minor": 5
}
